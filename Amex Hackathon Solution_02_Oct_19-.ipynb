{
 "cells": [
  {
   "cell_type": "code",
   "execution_count": 1,
   "metadata": {},
   "outputs": [],
   "source": [
    "import pandas as pd\n",
    "import numpy as np\n",
    "import seaborn as sns\n",
    "import matplotlib.pyplot as plt\n",
    "%matplotlib inline\n",
    "from datetime import datetime"
   ]
  },
  {
   "cell_type": "code",
   "execution_count": 2,
   "metadata": {},
   "outputs": [],
   "source": [
    "train_data = pd.read_csv(\"D:/Inceptez Technologies/AmExpert 2019 – Machine Learning Hackathon/Predicting Coupon Redemption/combined csv/train.csv\")\n",
    "cust_demo_data = pd.read_csv(\"D:/Inceptez Technologies/AmExpert 2019 – Machine Learning Hackathon/Predicting Coupon Redemption/combined csv/customer_demographics.csv\")\n",
    "campaign_data = pd.read_csv(\"D:/Inceptez Technologies/AmExpert 2019 – Machine Learning Hackathon/Predicting Coupon Redemption/combined csv/campaign_data.csv\")\n",
    "coupon_item_mapping = pd.read_csv(\"D:/Inceptez Technologies/AmExpert 2019 – Machine Learning Hackathon/Predicting Coupon Redemption/combined csv/coupon_item_mapping.csv\")\n",
    "customer_transaction_data = pd.read_csv(\"D:/Inceptez Technologies/AmExpert 2019 – Machine Learning Hackathon/Predicting Coupon Redemption/combined csv/customer_transaction_data.csv\")\n",
    "item_data = pd.read_csv(\"D:/Inceptez Technologies/AmExpert 2019 – Machine Learning Hackathon/Predicting Coupon Redemption/combined csv/item_data.csv\")"
   ]
  },
  {
   "cell_type": "code",
   "execution_count": 3,
   "metadata": {},
   "outputs": [],
   "source": [
    "cust_demo_data[\"no_of_children\"].fillna(0, inplace = True) \n",
    "cust_demo_data[\"marital_status\"] = np.where(cust_demo_data[\"marital_status\"].isna(),\n",
    "                                            np.where(cust_demo_data[\"no_of_children\"]==0,\"Single\",\"Married\"),\n",
    "         cust_demo_data[\"marital_status\"])"
   ]
  },
  {
   "cell_type": "code",
   "execution_count": 4,
   "metadata": {},
   "outputs": [
    {
     "name": "stdout",
     "output_type": "stream",
     "text": [
      "<class 'pandas.core.frame.DataFrame'>\n",
      "RangeIndex: 78369 entries, 0 to 78368\n",
      "Data columns (total 5 columns):\n",
      "id                   78369 non-null int64\n",
      "campaign_id          78369 non-null int64\n",
      "coupon_id            78369 non-null int64\n",
      "customer_id          78369 non-null int64\n",
      "redemption_status    78369 non-null int64\n",
      "dtypes: int64(5)\n",
      "memory usage: 3.0 MB\n"
     ]
    }
   ],
   "source": [
    "train_data.info()"
   ]
  },
  {
   "cell_type": "code",
   "execution_count": 5,
   "metadata": {},
   "outputs": [],
   "source": [
    "train_data_merge = pd.merge(train_data,campaign_data,how=\"inner\",on=\"campaign_id\")"
   ]
  },
  {
   "cell_type": "code",
   "execution_count": 6,
   "metadata": {},
   "outputs": [],
   "source": [
    "train_data_merge = pd.merge(train_data_merge,coupon_item_mapping,how=\"inner\",on=\"coupon_id\")"
   ]
  },
  {
   "cell_type": "code",
   "execution_count": 7,
   "metadata": {},
   "outputs": [],
   "source": [
    "train_data_merge = pd.merge(train_data_merge,item_data,how=\"inner\",on=\"item_id\")"
   ]
  },
  {
   "cell_type": "code",
   "execution_count": 8,
   "metadata": {},
   "outputs": [],
   "source": [
    "train_data_merge = pd.merge(train_data_merge,cust_demo_data,how=\"left\",on=\"customer_id\")"
   ]
  },
  {
   "cell_type": "code",
   "execution_count": 9,
   "metadata": {},
   "outputs": [
    {
     "data": {
      "text/plain": [
       "array([    1,    13,    27, ..., 57887, 65961, 66035], dtype=int64)"
      ]
     },
     "execution_count": 9,
     "metadata": {},
     "output_type": "execute_result"
    }
   ],
   "source": [
    "pd.unique(train_data_merge[['id','campaign_id','coupon_id',\n",
    "                            'customer_id','redemption_status','item_id']].values.ravel())"
   ]
  },
  {
   "cell_type": "code",
   "execution_count": 10,
   "metadata": {},
   "outputs": [
    {
     "name": "stdout",
     "output_type": "stream",
     "text": [
      "<class 'pandas.core.frame.DataFrame'>\n",
      "Int64Index: 6420694 entries, 0 to 6420693\n",
      "Data columns (total 18 columns):\n",
      "id                   int64\n",
      "campaign_id          int64\n",
      "coupon_id            int64\n",
      "customer_id          int64\n",
      "redemption_status    int64\n",
      "campaign_type        object\n",
      "start_date           object\n",
      "end_date             object\n",
      "item_id              int64\n",
      "brand                int64\n",
      "brand_type           object\n",
      "category             object\n",
      "age_range            object\n",
      "marital_status       object\n",
      "rented               float64\n",
      "family_size          object\n",
      "no_of_children       object\n",
      "income_bracket       float64\n",
      "dtypes: float64(2), int64(7), object(9)\n",
      "memory usage: 930.7+ MB\n"
     ]
    }
   ],
   "source": [
    "train_data_merge.info()"
   ]
  },
  {
   "cell_type": "code",
   "execution_count": 11,
   "metadata": {},
   "outputs": [],
   "source": [
    "train_data_merge.drop_duplicates(keep=\"first\", inplace=True)"
   ]
  },
  {
   "cell_type": "code",
   "execution_count": 12,
   "metadata": {},
   "outputs": [
    {
     "name": "stdout",
     "output_type": "stream",
     "text": [
      "<class 'pandas.core.frame.DataFrame'>\n",
      "Int64Index: 6420694 entries, 0 to 6420693\n",
      "Data columns (total 18 columns):\n",
      "id                   int64\n",
      "campaign_id          int64\n",
      "coupon_id            int64\n",
      "customer_id          int64\n",
      "redemption_status    int64\n",
      "campaign_type        object\n",
      "start_date           object\n",
      "end_date             object\n",
      "item_id              int64\n",
      "brand                int64\n",
      "brand_type           object\n",
      "category             object\n",
      "age_range            object\n",
      "marital_status       object\n",
      "rented               float64\n",
      "family_size          object\n",
      "no_of_children       object\n",
      "income_bracket       float64\n",
      "dtypes: float64(2), int64(7), object(9)\n",
      "memory usage: 930.7+ MB\n"
     ]
    }
   ],
   "source": [
    "train_data_merge.info()"
   ]
  },
  {
   "cell_type": "code",
   "execution_count": 13,
   "metadata": {},
   "outputs": [
    {
     "name": "stdout",
     "output_type": "stream",
     "text": [
      "<class 'pandas.core.frame.DataFrame'>\n",
      "RangeIndex: 1324566 entries, 0 to 1324565\n",
      "Data columns (total 7 columns):\n",
      "date               1324566 non-null object\n",
      "customer_id        1324566 non-null int64\n",
      "item_id            1324566 non-null int64\n",
      "quantity           1324566 non-null int64\n",
      "selling_price      1324566 non-null float64\n",
      "other_discount     1324566 non-null float64\n",
      "coupon_discount    1324566 non-null float64\n",
      "dtypes: float64(3), int64(3), object(1)\n",
      "memory usage: 70.7+ MB\n"
     ]
    }
   ],
   "source": [
    "customer_transaction_data.info()"
   ]
  },
  {
   "cell_type": "code",
   "execution_count": 14,
   "metadata": {},
   "outputs": [],
   "source": [
    "train_data_merge = pd.merge(train_data_merge,customer_transaction_data,how=\"left\",on=['customer_id','item_id'])"
   ]
  },
  {
   "cell_type": "code",
   "execution_count": 15,
   "metadata": {},
   "outputs": [
    {
     "name": "stdout",
     "output_type": "stream",
     "text": [
      "<class 'pandas.core.frame.DataFrame'>\n",
      "Int64Index: 6486695 entries, 0 to 6486694\n",
      "Data columns (total 23 columns):\n",
      "id                   int64\n",
      "campaign_id          int64\n",
      "coupon_id            int64\n",
      "customer_id          int64\n",
      "redemption_status    int64\n",
      "campaign_type        object\n",
      "start_date           object\n",
      "end_date             object\n",
      "item_id              int64\n",
      "brand                int64\n",
      "brand_type           object\n",
      "category             object\n",
      "age_range            object\n",
      "marital_status       object\n",
      "rented               float64\n",
      "family_size          object\n",
      "no_of_children       object\n",
      "income_bracket       float64\n",
      "date                 object\n",
      "quantity             float64\n",
      "selling_price        float64\n",
      "other_discount       float64\n",
      "coupon_discount      float64\n",
      "dtypes: float64(6), int64(7), object(10)\n",
      "memory usage: 1.2+ GB\n"
     ]
    }
   ],
   "source": [
    "train_data_merge.info()"
   ]
  },
  {
   "cell_type": "code",
   "execution_count": 16,
   "metadata": {},
   "outputs": [],
   "source": [
    "train_data_merge.drop_duplicates(keep=\"first\", inplace=True)"
   ]
  },
  {
   "cell_type": "code",
   "execution_count": 17,
   "metadata": {},
   "outputs": [
    {
     "name": "stdout",
     "output_type": "stream",
     "text": [
      "<class 'pandas.core.frame.DataFrame'>\n",
      "Int64Index: 6485485 entries, 0 to 6486694\n",
      "Data columns (total 23 columns):\n",
      "id                   int64\n",
      "campaign_id          int64\n",
      "coupon_id            int64\n",
      "customer_id          int64\n",
      "redemption_status    int64\n",
      "campaign_type        object\n",
      "start_date           object\n",
      "end_date             object\n",
      "item_id              int64\n",
      "brand                int64\n",
      "brand_type           object\n",
      "category             object\n",
      "age_range            object\n",
      "marital_status       object\n",
      "rented               float64\n",
      "family_size          object\n",
      "no_of_children       object\n",
      "income_bracket       float64\n",
      "date                 object\n",
      "quantity             float64\n",
      "selling_price        float64\n",
      "other_discount       float64\n",
      "coupon_discount      float64\n",
      "dtypes: float64(6), int64(7), object(10)\n",
      "memory usage: 1.2+ GB\n"
     ]
    }
   ],
   "source": [
    "train_data_merge.info()"
   ]
  },
  {
   "cell_type": "code",
   "execution_count": 18,
   "metadata": {},
   "outputs": [],
   "source": [
    "train_data_merge['quantity'].fillna(0,inplace=True)"
   ]
  },
  {
   "cell_type": "code",
   "execution_count": 19,
   "metadata": {},
   "outputs": [],
   "source": [
    "train_data_merge['other_discount'].fillna(0,inplace=True)"
   ]
  },
  {
   "cell_type": "code",
   "execution_count": 20,
   "metadata": {},
   "outputs": [],
   "source": [
    "train_data_merge['coupon_discount'].fillna(0,inplace=True)"
   ]
  },
  {
   "cell_type": "code",
   "execution_count": 21,
   "metadata": {},
   "outputs": [
    {
     "name": "stdout",
     "output_type": "stream",
     "text": [
      "<class 'pandas.core.frame.DataFrame'>\n",
      "Int64Index: 6485485 entries, 0 to 6486694\n",
      "Data columns (total 23 columns):\n",
      "id                   int64\n",
      "campaign_id          int64\n",
      "coupon_id            int64\n",
      "customer_id          int64\n",
      "redemption_status    int64\n",
      "campaign_type        object\n",
      "start_date           object\n",
      "end_date             object\n",
      "item_id              int64\n",
      "brand                int64\n",
      "brand_type           object\n",
      "category             object\n",
      "age_range            object\n",
      "marital_status       object\n",
      "rented               float64\n",
      "family_size          object\n",
      "no_of_children       object\n",
      "income_bracket       float64\n",
      "date                 object\n",
      "quantity             float64\n",
      "selling_price        float64\n",
      "other_discount       float64\n",
      "coupon_discount      float64\n",
      "dtypes: float64(6), int64(7), object(10)\n",
      "memory usage: 1.2+ GB\n"
     ]
    }
   ],
   "source": [
    "train_data_merge.info()"
   ]
  },
  {
   "cell_type": "code",
   "execution_count": 22,
   "metadata": {},
   "outputs": [
    {
     "data": {
      "text/plain": [
       "Index(['id', 'campaign_id', 'coupon_id', 'customer_id', 'redemption_status',\n",
       "       'campaign_type', 'start_date', 'end_date', 'item_id', 'brand',\n",
       "       'brand_type', 'category', 'age_range', 'marital_status', 'rented',\n",
       "       'family_size', 'no_of_children', 'income_bracket', 'date', 'quantity',\n",
       "       'selling_price', 'other_discount', 'coupon_discount'],\n",
       "      dtype='object')"
      ]
     },
     "execution_count": 22,
     "metadata": {},
     "output_type": "execute_result"
    }
   ],
   "source": [
    "train_data_merge.columns"
   ]
  },
  {
   "cell_type": "code",
   "execution_count": 23,
   "metadata": {},
   "outputs": [],
   "source": [
    "columns = ['campaign_type','brand_type', 'category', \n",
    "           'quantity','other_discount', 'coupon_discount','marital_status',\n",
    "           'rented','income_bracket','age_range','brand']\n",
    "x_data = train_data_merge[columns]\n",
    "y_data = train_data_merge['redemption_status']"
   ]
  },
  {
   "cell_type": "code",
   "execution_count": 24,
   "metadata": {},
   "outputs": [
    {
     "data": {
      "text/plain": [
       "campaign_type            0\n",
       "brand_type               0\n",
       "category                 0\n",
       "quantity                 0\n",
       "other_discount           0\n",
       "coupon_discount          0\n",
       "marital_status     2632175\n",
       "rented             2632175\n",
       "income_bracket     2632175\n",
       "age_range          2632175\n",
       "brand                    0\n",
       "dtype: int64"
      ]
     },
     "execution_count": 24,
     "metadata": {},
     "output_type": "execute_result"
    }
   ],
   "source": [
    "x_data.isnull().sum()"
   ]
  },
  {
   "cell_type": "code",
   "execution_count": 25,
   "metadata": {},
   "outputs": [
    {
     "name": "stderr",
     "output_type": "stream",
     "text": [
      "C:\\Users\\Venkat\\AppData\\Local\\Continuum\\anaconda3\\lib\\site-packages\\pandas\\core\\generic.py:6130: SettingWithCopyWarning: \n",
      "A value is trying to be set on a copy of a slice from a DataFrame\n",
      "\n",
      "See the caveats in the documentation: http://pandas.pydata.org/pandas-docs/stable/indexing.html#indexing-view-versus-copy\n",
      "  self._update_inplace(new_data)\n"
     ]
    }
   ],
   "source": [
    "x_data['age_range'].fillna('100+',inplace=True)\n",
    "x_data['marital_status'].fillna('XX',inplace=True)\n",
    "x_data['rented'].fillna(2,inplace=True)\n",
    "x_data['income_bracket'].fillna(99,inplace=True)"
   ]
  },
  {
   "cell_type": "code",
   "execution_count": 26,
   "metadata": {},
   "outputs": [
    {
     "name": "stdout",
     "output_type": "stream",
     "text": [
      "Collecting catboost\n",
      "  Using cached https://files.pythonhosted.org/packages/d1/52/ec09041f1d614f338050ee32b32e9b72f053dfa5c9e0fd9d827b4b405c33/catboost-0.17.4-cp37-none-win_amd64.whl\n",
      "Requirement already satisfied: six in c:\\users\\venkat\\appdata\\local\\continuum\\anaconda3\\lib\\site-packages (from catboost) (1.12.0)\n",
      "Collecting graphviz (from catboost)\n",
      "  Using cached https://files.pythonhosted.org/packages/94/cd/7b37f2b658995033879719e1ea4c9f171bf7a14c16b79220bd19f9eda3fe/graphviz-0.13-py2.py3-none-any.whl\n",
      "Requirement already satisfied: pandas>=0.24.0 in c:\\users\\venkat\\appdata\\local\\continuum\\anaconda3\\lib\\site-packages (from catboost) (0.24.2)\n",
      "Requirement already satisfied: scipy in c:\\users\\venkat\\appdata\\local\\continuum\\anaconda3\\lib\\site-packages (from catboost) (1.2.1)\n",
      "Requirement already satisfied: matplotlib in c:\\users\\venkat\\appdata\\local\\continuum\\anaconda3\\lib\\site-packages (from catboost) (3.1.0)\n",
      "Requirement already satisfied: numpy>=1.16.0 in c:\\users\\venkat\\appdata\\local\\continuum\\anaconda3\\lib\\site-packages (from catboost) (1.16.4)\n",
      "Collecting plotly (from catboost)\n",
      "  Downloading https://files.pythonhosted.org/packages/70/19/8437e22c84083a6d5d8a3c80f4edc73c9dcbb89261d07e6bd13b48752bbd/plotly-4.1.1-py2.py3-none-any.whl (7.1MB)\n",
      "Requirement already satisfied: pytz>=2011k in c:\\users\\venkat\\appdata\\local\\continuum\\anaconda3\\lib\\site-packages (from pandas>=0.24.0->catboost) (2019.1)\n",
      "Requirement already satisfied: python-dateutil>=2.5.0 in c:\\users\\venkat\\appdata\\local\\continuum\\anaconda3\\lib\\site-packages (from pandas>=0.24.0->catboost) (2.8.0)\n",
      "Requirement already satisfied: cycler>=0.10 in c:\\users\\venkat\\appdata\\local\\continuum\\anaconda3\\lib\\site-packages (from matplotlib->catboost) (0.10.0)\n",
      "Requirement already satisfied: kiwisolver>=1.0.1 in c:\\users\\venkat\\appdata\\local\\continuum\\anaconda3\\lib\\site-packages (from matplotlib->catboost) (1.1.0)\n",
      "Requirement already satisfied: pyparsing!=2.0.4,!=2.1.2,!=2.1.6,>=2.0.1 in c:\\users\\venkat\\appdata\\local\\continuum\\anaconda3\\lib\\site-packages (from matplotlib->catboost) (2.4.0)\n",
      "Collecting retrying>=1.3.3 (from plotly->catboost)\n",
      "  Downloading https://files.pythonhosted.org/packages/44/ef/beae4b4ef80902f22e3af073397f079c96969c69b2c7d52a57ea9ae61c9d/retrying-1.3.3.tar.gz\n",
      "Requirement already satisfied: setuptools in c:\\users\\venkat\\appdata\\local\\continuum\\anaconda3\\lib\\site-packages (from kiwisolver>=1.0.1->matplotlib->catboost) (41.0.1)\n",
      "Building wheels for collected packages: retrying\n",
      "  Building wheel for retrying (setup.py): started\n",
      "  Building wheel for retrying (setup.py): finished with status 'done'\n",
      "  Stored in directory: C:\\Users\\Venkat\\AppData\\Local\\pip\\Cache\\wheels\\d7\\a9\\33\\acc7b709e2a35caa7d4cae442f6fe6fbf2c43f80823d46460c\n",
      "Successfully built retrying\n",
      "Installing collected packages: graphviz, retrying, plotly, catboost\n",
      "Successfully installed catboost-0.17.4 graphviz-0.13 plotly-4.1.1 retrying-1.3.3\n"
     ]
    }
   ],
   "source": [
    "! pip install catboost"
   ]
  },
  {
   "cell_type": "code",
   "execution_count": 27,
   "metadata": {},
   "outputs": [
    {
     "name": "stdout",
     "output_type": "stream",
     "text": [
      "\n",
      "Categorical Variables indices :  [ 0  1  2  6  9 10]\n"
     ]
    }
   ],
   "source": [
    "from catboost import CatBoostClassifier\n",
    "categorical_var = np.where(x_data.dtypes != np.float)[0]\n",
    "print('\\nCategorical Variables indices : ',categorical_var)"
   ]
  },
  {
   "cell_type": "code",
   "execution_count": 28,
   "metadata": {},
   "outputs": [
    {
     "name": "stdout",
     "output_type": "stream",
     "text": [
      "0:\tlearn: 0.3056353\ttotal: 3.09s\tremaining: 2m 31s\n",
      "1:\tlearn: 0.2158165\ttotal: 5.91s\tremaining: 2m 21s\n",
      "2:\tlearn: 0.1819717\ttotal: 8.64s\tremaining: 2m 15s\n",
      "3:\tlearn: 0.1633394\ttotal: 10.8s\tremaining: 2m 3s\n",
      "4:\tlearn: 0.1557465\ttotal: 12.9s\tremaining: 1m 55s\n",
      "5:\tlearn: 0.1500067\ttotal: 15s\tremaining: 1m 49s\n",
      "6:\tlearn: 0.1458328\ttotal: 17.3s\tremaining: 1m 46s\n",
      "7:\tlearn: 0.1441846\ttotal: 19.4s\tremaining: 1m 41s\n",
      "8:\tlearn: 0.1431383\ttotal: 21.4s\tremaining: 1m 37s\n",
      "9:\tlearn: 0.1406182\ttotal: 23.5s\tremaining: 1m 33s\n",
      "10:\tlearn: 0.1389741\ttotal: 25.6s\tremaining: 1m 30s\n",
      "11:\tlearn: 0.1373332\ttotal: 27.6s\tremaining: 1m 27s\n",
      "12:\tlearn: 0.1369385\ttotal: 29.6s\tremaining: 1m 24s\n",
      "13:\tlearn: 0.1351541\ttotal: 31.8s\tremaining: 1m 21s\n",
      "14:\tlearn: 0.1337374\ttotal: 33.9s\tremaining: 1m 19s\n",
      "15:\tlearn: 0.1328588\ttotal: 35.9s\tremaining: 1m 16s\n",
      "16:\tlearn: 0.1317199\ttotal: 38s\tremaining: 1m 13s\n",
      "17:\tlearn: 0.1307631\ttotal: 40s\tremaining: 1m 11s\n",
      "18:\tlearn: 0.1302040\ttotal: 42.1s\tremaining: 1m 8s\n",
      "19:\tlearn: 0.1295079\ttotal: 44.2s\tremaining: 1m 6s\n",
      "20:\tlearn: 0.1287937\ttotal: 46.3s\tremaining: 1m 3s\n",
      "21:\tlearn: 0.1285159\ttotal: 48.5s\tremaining: 1m 1s\n",
      "22:\tlearn: 0.1280905\ttotal: 50.7s\tremaining: 59.5s\n",
      "23:\tlearn: 0.1277453\ttotal: 53s\tremaining: 57.4s\n",
      "24:\tlearn: 0.1274764\ttotal: 55.2s\tremaining: 55.2s\n",
      "25:\tlearn: 0.1271837\ttotal: 57.3s\tremaining: 52.9s\n",
      "26:\tlearn: 0.1271052\ttotal: 59.5s\tremaining: 50.7s\n",
      "27:\tlearn: 0.1270077\ttotal: 1m 1s\tremaining: 48.4s\n",
      "28:\tlearn: 0.1267848\ttotal: 1m 3s\tremaining: 46.1s\n",
      "29:\tlearn: 0.1266199\ttotal: 1m 5s\tremaining: 43.9s\n",
      "30:\tlearn: 0.1263666\ttotal: 1m 8s\tremaining: 41.7s\n",
      "31:\tlearn: 0.1263142\ttotal: 1m 10s\tremaining: 39.4s\n",
      "32:\tlearn: 0.1261439\ttotal: 1m 11s\tremaining: 37.1s\n",
      "33:\tlearn: 0.1259986\ttotal: 1m 13s\tremaining: 34.8s\n",
      "34:\tlearn: 0.1258725\ttotal: 1m 15s\tremaining: 32.5s\n",
      "35:\tlearn: 0.1258609\ttotal: 1m 17s\tremaining: 30.3s\n",
      "36:\tlearn: 0.1258536\ttotal: 1m 19s\tremaining: 28.1s\n",
      "37:\tlearn: 0.1257207\ttotal: 1m 21s\tremaining: 25.9s\n",
      "38:\tlearn: 0.1255580\ttotal: 1m 24s\tremaining: 23.7s\n",
      "39:\tlearn: 0.1255012\ttotal: 1m 26s\tremaining: 21.6s\n",
      "40:\tlearn: 0.1252212\ttotal: 1m 28s\tremaining: 19.4s\n",
      "41:\tlearn: 0.1251424\ttotal: 1m 30s\tremaining: 17.2s\n",
      "42:\tlearn: 0.1249120\ttotal: 1m 32s\tremaining: 15.1s\n",
      "43:\tlearn: 0.1246407\ttotal: 1m 34s\tremaining: 12.9s\n",
      "44:\tlearn: 0.1246357\ttotal: 1m 36s\tremaining: 10.8s\n",
      "45:\tlearn: 0.1245710\ttotal: 1m 38s\tremaining: 8.6s\n",
      "46:\tlearn: 0.1244534\ttotal: 1m 40s\tremaining: 6.44s\n",
      "47:\tlearn: 0.1244467\ttotal: 1m 42s\tremaining: 4.29s\n",
      "48:\tlearn: 0.1244277\ttotal: 1m 45s\tremaining: 2.14s\n",
      "49:\tlearn: 0.1243817\ttotal: 1m 46s\tremaining: 0us\n"
     ]
    },
    {
     "data": {
      "text/plain": [
       "<catboost.core.CatBoostClassifier at 0x1f8032807b8>"
      ]
     },
     "execution_count": 28,
     "metadata": {},
     "output_type": "execute_result"
    }
   ],
   "source": [
    "cat_model = CatBoostClassifier(iterations=50,learning_rate=0.7)\n",
    "cat_model.fit(x_data,y_data,cat_features = categorical_var,plot=False)"
   ]
  },
  {
   "cell_type": "code",
   "execution_count": 29,
   "metadata": {},
   "outputs": [
    {
     "name": "stdout",
     "output_type": "stream",
     "text": [
      "[[6145920   15930]\n",
      " [ 280709   42926]]\n",
      "Accuracy: 0.954261092269892\n"
     ]
    }
   ],
   "source": [
    "y_pred = cat_model.predict(x_data)\n",
    "from sklearn.metrics import confusion_matrix,accuracy_score\n",
    "confusion_matrix = confusion_matrix(y_data, y_pred)\n",
    "print(confusion_matrix)\n",
    "print(\"Accuracy:\",accuracy_score(y_data, y_pred))"
   ]
  },
  {
   "cell_type": "code",
   "execution_count": 30,
   "metadata": {},
   "outputs": [],
   "source": [
    "test_data = pd.read_csv(\"D:/Inceptez Technologies/AmExpert 2019 – Machine Learning Hackathon/Predicting Coupon Redemption/combined csv/test_QyjYwdj.csv\")"
   ]
  },
  {
   "cell_type": "code",
   "execution_count": 31,
   "metadata": {},
   "outputs": [],
   "source": [
    "test_data_merge = pd.merge(test_data,campaign_data,how=\"inner\",on=\"campaign_id\")\n",
    "test_data_merge = pd.merge(test_data_merge,coupon_item_mapping,how=\"inner\",on=\"coupon_id\")\n",
    "test_data_merge = pd.merge(test_data_merge,item_data,how=\"inner\",on=\"item_id\")\n",
    "test_data_merge = pd.merge(test_data_merge,cust_demo_data,how=\"left\",on=\"customer_id\")"
   ]
  },
  {
   "cell_type": "code",
   "execution_count": 32,
   "metadata": {},
   "outputs": [],
   "source": [
    "test_data_merge = pd.merge(test_data_merge,customer_transaction_data,how=\"left\",on=['customer_id','item_id'])"
   ]
  },
  {
   "cell_type": "code",
   "execution_count": 33,
   "metadata": {},
   "outputs": [],
   "source": [
    "test_data_merge.drop_duplicates(keep=\"first\", inplace=True)"
   ]
  },
  {
   "cell_type": "code",
   "execution_count": 34,
   "metadata": {},
   "outputs": [],
   "source": [
    "test_data_merge['quantity'].fillna(0,inplace=True)\n",
    "test_data_merge['other_discount'].fillna(0,inplace=True)\n",
    "test_data_merge['coupon_discount'].fillna(0,inplace=True)\n",
    "test_data_merge['age_range'].fillna('100+',inplace=True)\n",
    "test_data_merge['marital_status'].fillna('XX',inplace=True)\n",
    "test_data_merge['rented'].fillna(2,inplace=True)\n",
    "test_data_merge['income_bracket'].fillna(99,inplace=True)"
   ]
  },
  {
   "cell_type": "code",
   "execution_count": 35,
   "metadata": {},
   "outputs": [],
   "source": [
    "x_test_data = test_data_merge[columns]\n",
    "#y_data = train_data_merge['redemption_status']"
   ]
  },
  {
   "cell_type": "code",
   "execution_count": 36,
   "metadata": {},
   "outputs": [],
   "source": [
    "y_pred = cat_model.predict(x_test_data)"
   ]
  },
  {
   "cell_type": "code",
   "execution_count": 37,
   "metadata": {},
   "outputs": [],
   "source": [
    "test_data_merge['redemption_status'] = y_pred"
   ]
  },
  {
   "cell_type": "code",
   "execution_count": 38,
   "metadata": {},
   "outputs": [],
   "source": [
    "columns = ['id','redemption_status']\n",
    "submission_data = test_data_merge[columns]"
   ]
  },
  {
   "cell_type": "code",
   "execution_count": 39,
   "metadata": {},
   "outputs": [],
   "source": [
    "final_submit_data = submission_data.groupby(\"id\").max()[\"redemption_status\"]"
   ]
  },
  {
   "cell_type": "code",
   "execution_count": 40,
   "metadata": {},
   "outputs": [
    {
     "name": "stderr",
     "output_type": "stream",
     "text": [
      "C:\\Users\\Venkat\\AppData\\Local\\Continuum\\anaconda3\\lib\\site-packages\\ipykernel_launcher.py:1: FutureWarning: The signature of `Series.to_csv` was aligned to that of `DataFrame.to_csv`, and argument 'header' will change its default value from False to True: please pass an explicit value to suppress this warning.\n",
      "  \"\"\"Entry point for launching an IPython kernel.\n"
     ]
    }
   ],
   "source": [
    "final_submit_data.to_csv(\"D:/Inceptez Technologies/AmExpert 2019 – Machine Learning Hackathon/Predicting Coupon Redemption/catboostsubmission.csv\")"
   ]
  }
 ],
 "metadata": {
  "kernelspec": {
   "display_name": "Python 3",
   "language": "python",
   "name": "python3"
  },
  "language_info": {
   "codemirror_mode": {
    "name": "ipython",
    "version": 3
   },
   "file_extension": ".py",
   "mimetype": "text/x-python",
   "name": "python",
   "nbconvert_exporter": "python",
   "pygments_lexer": "ipython3",
   "version": "3.7.3"
  }
 },
 "nbformat": 4,
 "nbformat_minor": 2
}
